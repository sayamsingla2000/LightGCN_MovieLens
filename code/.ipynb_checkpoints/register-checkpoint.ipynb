{
 "cells": [
  {
   "cell_type": "code",
   "execution_count": null,
   "metadata": {},
   "outputs": [],
   "source": [
    "import world\n",
    "import dataloader\n",
    "import model\n",
    "import utils\n",
    "from pprint import pprint\n",
    "\n",
    "if world.dataset in ['gowalla', 'yelp2018', 'amazon-book']:\n",
    "    dataset = dataloader.Loader(path=\"../data/\"+world.dataset)\n",
    "elif world.dataset == 'lastfm':\n",
    "    dataset = dataloader.LastFM()\n",
    "\n",
    "print('===========config================')\n",
    "pprint(world.config)\n",
    "print(\"cores for test:\", world.CORES)\n",
    "print(\"comment:\", world.comment)\n",
    "print(\"tensorboard:\", world.tensorboard)\n",
    "print(\"LOAD:\", world.LOAD)\n",
    "print(\"Weight path:\", world.PATH)\n",
    "print(\"Test Topks:\", world.topks)\n",
    "print(\"using bpr loss\")\n",
    "print('===========end===================')\n",
    "\n",
    "MODELS = {\n",
    "    'mf': model.PureMF,\n",
    "    'lgn': model.LightGCN\n",
    "}"
   ]
  }
 ],
 "metadata": {
  "kernelspec": {
   "display_name": "Python 3",
   "language": "python",
   "name": "python3"
  },
  "language_info": {
   "codemirror_mode": {
    "name": "ipython",
    "version": 3
   },
   "file_extension": ".py",
   "mimetype": "text/x-python",
   "name": "python",
   "nbconvert_exporter": "python",
   "pygments_lexer": "ipython3",
   "version": "3.7.7"
  }
 },
 "nbformat": 4,
 "nbformat_minor": 4
}
