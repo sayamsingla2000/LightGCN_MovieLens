{
 "cells": [
  {
   "cell_type": "code",
   "execution_count": null,
   "metadata": {},
   "outputs": [],
   "source": [
    "import argparse\n",
    "\n",
    "\n",
    "def parse_args():\n",
    "    parser = argparse.ArgumentParser(description=\"Go lightGCN\")\n",
    "    parser.add_argument('--bpr_batch', type=int,default=2048,\n",
    "                        help=\"the batch size for bpr loss training procedure\")\n",
    "    parser.add_argument('--recdim', type=int,default=64,\n",
    "                        help=\"the embedding size of lightGCN\")\n",
    "    parser.add_argument('--layer', type=int,default=3,\n",
    "                        help=\"the layer num of lightGCN\")\n",
    "    parser.add_argument('--lr', type=float,default=0.001,\n",
    "                        help=\"the learning rate\")\n",
    "    parser.add_argument('--decay', type=float,default=1e-4,\n",
    "                        help=\"the weight decay for l2 normalizaton\")\n",
    "    parser.add_argument('--dropout', type=int,default=0,\n",
    "                        help=\"using the dropout or not\")\n",
    "    parser.add_argument('--keepprob', type=float,default=0.6,\n",
    "                        help=\"the batch size for bpr loss training procedure\")\n",
    "    parser.add_argument('--a_fold', type=int,default=100,\n",
    "                        help=\"the fold num used to split large adj matrix, like gowalla\")\n",
    "    parser.add_argument('--testbatch', type=int,default=100,\n",
    "                        help=\"the batch size of users for testing\")\n",
    "    parser.add_argument('--dataset', type=str,default='gowalla',\n",
    "                        help=\"available datasets: [lastfm, gowalla, yelp2018, amazon-book]\")\n",
    "    parser.add_argument('--path', type=str,default=\"./checkpoints\",\n",
    "                        help=\"path to save weights\")\n",
    "    parser.add_argument('--topks', nargs='?',default=\"[20]\",\n",
    "                        help=\"@k test list\")\n",
    "    parser.add_argument('--tensorboard', type=int,default=1,\n",
    "                        help=\"enable tensorboard\")\n",
    "    parser.add_argument('--comment', type=str,default=\"lgn\")\n",
    "    parser.add_argument('--load', type=int,default=0)\n",
    "    parser.add_argument('--epochs', type=int,default=25)\n",
    "    parser.add_argument('--multicore', type=int, default=0, help='whether we use multiprocessing or not in test')\n",
    "    parser.add_argument('--pretrain', type=int, default=0, help='whether we use pretrained weight or not')\n",
    "    parser.add_argument('--seed', type=int, default=2020, help='random seed')\n",
    "    parser.add_argument('--model', type=str, default='lgn', help='rec-model, support [mf, lgn]')\n",
    "    return parser.parse_args()\n",
    "\n"
   ]
  }
 ],
 "metadata": {
  "kernelspec": {
   "display_name": "Python 3",
   "language": "python",
   "name": "python3"
  },
  "language_info": {
   "codemirror_mode": {
    "name": "ipython",
    "version": 3
   },
   "file_extension": ".py",
   "mimetype": "text/x-python",
   "name": "python",
   "nbconvert_exporter": "python",
   "pygments_lexer": "ipython3",
   "version": "3.7.7"
  }
 },
 "nbformat": 4,
 "nbformat_minor": 4
}
