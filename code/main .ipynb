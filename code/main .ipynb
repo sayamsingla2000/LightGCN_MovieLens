{
 "cells": [
  {
   "cell_type": "code",
   "execution_count": null,
   "metadata": {},
   "outputs": [],
   "source": [
    "import world\n",
    "import utils\n",
    "from world import cprint\n",
    "import torch\n",
    "import numpy as np\n",
    "from tensorboardX import SummaryWriter\n",
    "import time\n",
    "import Procedure\n",
    "from os.path import join\n",
    "# ==============================\n",
    "utils.set_seed(world.seed)\n",
    "print(\">>SEED:\", world.seed)\n",
    "# ==============================\n",
    "import register\n",
    "from register import dataset\n",
    "\n",
    "Recmodel = register.MODELS[world.model_name](world.config, dataset)\n",
    "Recmodel = Recmodel.to(world.device)\n",
    "bpr = utils.BPRLoss(Recmodel, world.config)\n",
    "\n",
    "weight_file = utils.getFileName()\n",
    "print(f\"load and save to {weight_file}\")\n",
    "if world.LOAD:\n",
    "    try:\n",
    "        Recmodel.load_state_dict(torch.load(weight_file,map_location=torch.device('cpu')))\n",
    "        world.cprint(f\"loaded model weights from {weight_file}\")\n",
    "    except FileNotFoundError:\n",
    "        print(f\"{weight_file} not exists, start from beginning\")\n",
    "Neg_k = 1\n",
    "\n",
    "# init tensorboard\n",
    "if world.tensorboard:\n",
    "    w : SummaryWriter = SummaryWriter(\n",
    "                                    join(world.BOARD_PATH, time.strftime(\"%m-%d-%Hh%Mm%Ss-\") + \"-\" + world.comment)\n",
    "                                    )\n",
    "else:\n",
    "    w = None\n",
    "    world.cprint(\"not enable tensorflowboard\")\n",
    "\n",
    "try:\n",
    "    for epoch in range(world.TRAIN_epochs):\n",
    "        start = time.time()\n",
    "        if epoch %10 == 0:\n",
    "            cprint(\"[TEST]\")\n",
    "            Procedure.Test(dataset, Recmodel, epoch, w, world.config['multicore'])\n",
    "        output_information = Procedure.BPR_train_original(dataset, Recmodel, bpr, epoch, neg_k=Neg_k,w=w)\n",
    "        print(f'EPOCH[{epoch+1}/{world.TRAIN_epochs}] {output_information}')\n",
    "        torch.save(Recmodel.state_dict(), weight_file)\n",
    "finally:\n",
    "    if world.tensorboard:\n",
    "        w.close()"
   ]
  }
 ],
 "metadata": {
  "kernelspec": {
   "display_name": "Python 3",
   "language": "python",
   "name": "python3"
  },
  "language_info": {
   "codemirror_mode": {
    "name": "ipython",
    "version": 3
   },
   "file_extension": ".py",
   "mimetype": "text/x-python",
   "name": "python",
   "nbconvert_exporter": "python",
   "pygments_lexer": "ipython3",
   "version": "3.7.7"
  }
 },
 "nbformat": 4,
 "nbformat_minor": 4
}
