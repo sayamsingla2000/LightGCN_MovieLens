{
 "cells": [
  {
   "cell_type": "code",
   "execution_count": 2,
   "metadata": {},
   "outputs": [],
   "source": [
    "import pandas as pd"
   ]
  },
  {
   "cell_type": "code",
   "execution_count": 2,
   "metadata": {},
   "outputs": [],
   "source": [
    "from pyflink.common.serialization import Encoder\n",
    "from pyflink.common.typeinfo import Types\n",
    "from pyflink.datastream import StreamExecutionEnvironment\n",
    "from pyflink.datastream.connectors import StreamingFileSink\n",
    "\n",
    "\n",
    "def tutorial():\n",
    "    env = StreamExecutionEnvironment.get_execution_environment()\n",
    "    env.set_parallelism(1)\n",
    "    ds = env.from_collection(\n",
    "        collection=[(1, 'aaa'), (2, 'bbb')],\n",
    "        type_info=Types.ROW([Types.INT(), Types.STRING()]))\n",
    "    ds.add_sink(StreamingFileSink\n",
    "                .for_row_format('/tmp/output', Encoder.simple_string_encoder())\n",
    "                .build())\n",
    "    env.execute(\"tutorial_job\")\n",
    "\n",
    "\n"
   ]
  },
  {
   "cell_type": "code",
   "execution_count": 3,
   "metadata": {},
   "outputs": [
    {
     "data": {
      "text/plain": [
       "NoneType"
      ]
     },
     "execution_count": 3,
     "metadata": {},
     "output_type": "execute_result"
    }
   ],
   "source": [
    "print(tutorial())"
   ]
  },
  {
   "cell_type": "code",
   "execution_count": 2,
   "metadata": {},
   "outputs": [
    {
     "ename": "ModuleNotFoundError",
     "evalue": "No module named 'neo4j.v1'",
     "output_type": "error",
     "traceback": [
      "\u001b[0;31m---------------------------------------------------------------------------\u001b[0m",
      "\u001b[0;31mModuleNotFoundError\u001b[0m                       Traceback (most recent call last)",
      "\u001b[0;32m<ipython-input-2-66854ba7ecc6>\u001b[0m in \u001b[0;36m<module>\u001b[0;34m\u001b[0m\n\u001b[1;32m      6\u001b[0m \u001b[0;32mfrom\u001b[0m \u001b[0mpprint\u001b[0m \u001b[0;32mimport\u001b[0m \u001b[0mpformat\u001b[0m\u001b[0;34m\u001b[0m\u001b[0;34m\u001b[0m\u001b[0m\n\u001b[1;32m      7\u001b[0m \u001b[0;32mimport\u001b[0m \u001b[0muuid\u001b[0m\u001b[0;34m\u001b[0m\u001b[0;34m\u001b[0m\u001b[0m\n\u001b[0;32m----> 8\u001b[0;31m \u001b[0;32mfrom\u001b[0m \u001b[0mneo4j\u001b[0m\u001b[0;34m.\u001b[0m\u001b[0mv1\u001b[0m \u001b[0;32mimport\u001b[0m \u001b[0mGraphDatabase\u001b[0m\u001b[0;34m,\u001b[0m \u001b[0mbasic_auth\u001b[0m\u001b[0;34m\u001b[0m\u001b[0;34m\u001b[0m\u001b[0m\n\u001b[0m\u001b[1;32m      9\u001b[0m \u001b[0;31m#import pandas as pd  #uncomment if you want to write messages to a file\u001b[0m\u001b[0;34m\u001b[0m\u001b[0;34m\u001b[0m\u001b[0;34m\u001b[0m\u001b[0m\n\u001b[1;32m     10\u001b[0m \u001b[0;34m\u001b[0m\u001b[0m\n",
      "\u001b[0;31mModuleNotFoundError\u001b[0m: No module named 'neo4j.v1'"
     ]
    }
   ],
   "source": [
    "import confluent_kafka\n",
    "from confluent_kafka import Consumer, KafkaException, KafkaError\n",
    "import sys\n",
    "import getopt\n",
    "import json\n",
    "from pprint import pformat\n",
    "import uuid\n",
    "from neo4j.v1 import GraphDatabase, basic_auth\n",
    "#import pandas as pd  #uncomment if you want to write messages to a file\n",
    "\n",
    "\n",
    "\n",
    "def confluent_kafka_consume_batch(consumer, batch_size):\n",
    "\n",
    "            batch_list = []\n",
    "\n",
    "            batch_msg_consumed = 0\n",
    "\n",
    "            for m in range(batch_size):\n",
    "\n",
    "                msg = consumer.poll()\n",
    "\n",
    "                if msg is None:\n",
    "                    break\n",
    "                    #continue\n",
    "\n",
    "                if msg.error():\n",
    "                    # Error or event\n",
    "                    if msg.error().code() == KafkaError._PARTITION_EOF:\n",
    "                        # End of partition event\n",
    "                        sys.stderr.write('%% %s [%d] reached end at offset %d\\n' %\n",
    "                                         (msg.topic(), msg.partition(), msg.offset()))\n",
    "                    elif msg.error():\n",
    "                        # Error\n",
    "                        raise KafkaException(msg.error())  \n",
    "\n",
    "                else:\n",
    "\n",
    "                    datastr = str(msg.value())\n",
    "                    data = datastr[2:-1].split(\",\")\n",
    "\n",
    "#                     details you can access from message object\n",
    "                    print(\"%s %s\" % (\"iterator:\", m))\n",
    "                    print(\"%s %s\" % (\"msg:\", str(msg.value())))\n",
    "                    print(\"%s %s\" % (\"length:\", len(msg)))\n",
    "                    print(\"%s %s\" % (\"data:\", data))\n",
    "\n",
    "                    batch_list.extend([data])\n",
    "\n",
    "                    batch_msg_consumed += 1\n",
    "\n",
    "            return(batch_list, batch_msg_consumed)\n",
    "\n"
   ]
  },
  {
   "cell_type": "code",
   "execution_count": 1,
   "metadata": {},
   "outputs": [
    {
     "ename": "ModuleNotFoundError",
     "evalue": "No module named 'neo4j.v1'",
     "output_type": "error",
     "traceback": [
      "\u001b[0;31m---------------------------------------------------------------------------\u001b[0m",
      "\u001b[0;31mModuleNotFoundError\u001b[0m                       Traceback (most recent call last)",
      "\u001b[0;32m<ipython-input-1-4b73c62b5126>\u001b[0m in \u001b[0;36m<module>\u001b[0;34m\u001b[0m\n\u001b[1;32m      1\u001b[0m \u001b[0;31m#make sure apoc procedures are installed in Neo4j plugins folder\u001b[0m\u001b[0;34m\u001b[0m\u001b[0;34m\u001b[0m\u001b[0;34m\u001b[0m\u001b[0m\n\u001b[1;32m      2\u001b[0m \u001b[0;34m\u001b[0m\u001b[0m\n\u001b[0;32m----> 3\u001b[0;31m \u001b[0;32mfrom\u001b[0m \u001b[0mneo4j\u001b[0m\u001b[0;34m.\u001b[0m\u001b[0mv1\u001b[0m \u001b[0;32mimport\u001b[0m \u001b[0mGraphDatabase\u001b[0m\u001b[0;34m,\u001b[0m \u001b[0mbasic_auth\u001b[0m\u001b[0;34m,\u001b[0m \u001b[0mTRUST_ON_FIRST_USE\u001b[0m\u001b[0;34m,\u001b[0m \u001b[0mCypherError\u001b[0m\u001b[0;34m\u001b[0m\u001b[0;34m\u001b[0m\u001b[0m\n\u001b[0m\u001b[1;32m      4\u001b[0m \u001b[0;32mfrom\u001b[0m \u001b[0mstring\u001b[0m \u001b[0;32mimport\u001b[0m \u001b[0mTemplate\u001b[0m\u001b[0;34m\u001b[0m\u001b[0;34m\u001b[0m\u001b[0m\n\u001b[1;32m      5\u001b[0m \u001b[0;34m\u001b[0m\u001b[0m\n",
      "\u001b[0;31mModuleNotFoundError\u001b[0m: No module named 'neo4j.v1'"
     ]
    }
   ],
   "source": [
    "#make sure apoc procedures are installed in Neo4j plugins folder\n",
    "\n",
    "from neo4j.v1 import GraphDatabase, basic_auth, TRUST_ON_FIRST_USE, CypherError\n",
    "from string import Template\n",
    "\n",
    "\n",
    "nodes = 1000000\n",
    "\n",
    "nodes_per_graph = 10000\n",
    "\n",
    "graphs = int(nodes/nodes_per_graph)\n",
    "\n",
    "query0 = 'MATCH (n) DETACH DELETE n'\n",
    "\n",
    "\n",
    "query1 = Template('CALL apoc.generate.ba( ${nodes_per_graph}, 1, \"User\", \"KNOWS\") '\n",
    ").substitute(locals())\n",
    "\n",
    "\n",
    "query2 = '''\n",
    "MATCH (n:User) SET n.userId = id(n)+1000000\n",
    ";\n",
    "'''\n",
    "query3 = '''\n",
    "CREATE CONSTRAINT ON (n:User) ASSERT n.userId IS UNIQUE\n",
    ";\n",
    "'''\n",
    "\n",
    "query4 = '''\n",
    "CREATE INDEX on :DailyCharge(userId)\n",
    ";    \n",
    "'''\n",
    "\n",
    "driver = GraphDatabase.driver(\"bolt://localhost\",\n",
    "                          auth=basic_auth(\"neo4j\", \"neo4j\"),\n",
    "                          encrypted=False,\n",
    "                          trust=TRUST_ON_FIRST_USE)\n",
    "try:\n",
    "\n",
    "    session = driver.session()\n",
    "    result = session.run(query0)\n",
    "    summary = result.consume()\n",
    "    print(summary.counters)\n",
    "    session.close()\n",
    "\n",
    "    session = driver.session()\n",
    "    for i in range(graphs):\n",
    "        result = session.run(query1)\n",
    "        summary = result.consume()\n",
    "        #print(summary.counters)\n",
    "    session.close()\n",
    "\n",
    "    session = driver.session()\n",
    "    result = session.run(query2)\n",
    "    summary = result.consume()\n",
    "    print(summary.counters)\n",
    "    session.close()\n",
    "\n",
    "    session = driver.session()\n",
    "    result = session.run(query3)\n",
    "    summary = result.consume()\n",
    "    print(summary.counters)\n",
    "    session.close()\n",
    "\n",
    "    session = driver.session()\n",
    "    result = session.run(query4)\n",
    "    summary = result.consume()\n",
    "    print(summary.counters)\n",
    "    session.close()\n",
    "\n",
    "\n",
    "except Exception as e:\n",
    "\n",
    "    print('*** Got exception',e)\n",
    "    if not isinstance(e, CypherError):\n",
    "        print('*** Rolling back')\n",
    "        session.rollback()\n",
    "    else:\n",
    "        print('*** Not rolling back')\n",
    "\n",
    "finally:        \n",
    "     print('*** Done!')\n",
    "\n"
   ]
  },
  {
   "cell_type": "code",
   "execution_count": null,
   "metadata": {},
   "outputs": [],
   "source": []
  },
  {
   "cell_type": "code",
   "execution_count": null,
   "metadata": {},
   "outputs": [],
   "source": []
  }
 ],
 "metadata": {
  "kernelspec": {
   "display_name": "Python 3",
   "language": "python",
   "name": "python3"
  },
  "language_info": {
   "codemirror_mode": {
    "name": "ipython",
    "version": 3
   },
   "file_extension": ".py",
   "mimetype": "text/x-python",
   "name": "python",
   "nbconvert_exporter": "python",
   "pygments_lexer": "ipython3",
   "version": "3.7.3"
  }
 },
 "nbformat": 4,
 "nbformat_minor": 2
}
